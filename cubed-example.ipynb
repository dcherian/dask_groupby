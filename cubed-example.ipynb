{
 "cells": [
  {
   "cell_type": "code",
   "execution_count": null,
   "id": "8c33b843-dbaf-4320-a4ae-868b732a1171",
   "metadata": {},
   "outputs": [],
   "source": [
    "# based on https://flox.readthedocs.io/en/latest/user-stories/climatology-hourly.html\n",
    "# but with smaller data sizes so it can be run locally\n",
    "\n",
    "import cubed\n",
    "import cubed.array_api as xp\n",
    "import numpy as np\n",
    "import pandas as pd\n",
    "import xarray as xr\n",
    "\n",
    "import flox.xarray"
   ]
  },
  {
   "cell_type": "code",
   "execution_count": null,
   "id": "674c8844-f411-4a1a-b055-894b954639a4",
   "metadata": {},
   "outputs": [],
   "source": [
    "spec = cubed.Spec(allowed_mem=\"2GB\")\n",
    "ds = xr.Dataset(\n",
    "    {\n",
    "        \"tp\": (\n",
    "            (\"time\", \"latitude\", \"longitude\"),\n",
    "            xp.ones((8760, 72, 144), chunks=(744, 5, 144), dtype=np.float32, spec=spec),\n",
    "        )\n",
    "    },\n",
    "    coords={\"time\": pd.date_range(\"2021-01-01\", \"2021-12-31 23:59\", freq=\"h\")},\n",
    ")\n",
    "ds"
   ]
  },
  {
   "cell_type": "code",
   "execution_count": null,
   "id": "3137d5f5-0706-46a5-8c63-be9c7e420229",
   "metadata": {},
   "outputs": [],
   "source": [
    "hourly = flox.xarray.xarray_reduce(ds.tp, ds.time.dt.hour, func=\"mean\")\n",
    "hourly"
   ]
  },
  {
   "cell_type": "code",
   "execution_count": null,
   "id": "676d3f12-13f6-4b8f-ae74-5a9017dd69fd",
   "metadata": {},
   "outputs": [],
   "source": [
    "hourly.compute()"
   ]
  },
  {
   "cell_type": "code",
   "execution_count": null,
   "id": "8b59dcfc-5723-400c-977a-9cfc38bfa303",
   "metadata": {},
   "outputs": [],
   "source": []
  }
 ],
 "metadata": {
  "language_info": {
   "codemirror_mode": {
    "name": "ipython",
    "version": 3
   },
   "file_extension": ".py",
   "mimetype": "text/x-python",
   "name": "python",
   "nbconvert_exporter": "python",
   "pygments_lexer": "ipython3"
  }
 },
 "nbformat": 4,
 "nbformat_minor": 5
}
